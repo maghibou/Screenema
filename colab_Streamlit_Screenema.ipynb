{
  "cells": [
    {
      "cell_type": "markdown",
      "metadata": {
        "id": "X4NRKspYhP9r"
      },
      "source": [
        "# installer les outils (pip install) et connecter le drive"
      ]
    },
    {
      "cell_type": "code",
      "execution_count": null,
      "metadata": {
        "colab": {
          "base_uri": "https://localhost:8080/"
        },
        "id": "atvsPVM4g3FG",
        "outputId": "80dc1104-8591-432d-f956-186af98d4bb4"
      },
      "outputs": [
        {
          "output_type": "stream",
          "name": "stdout",
          "text": [
            "Drive already mounted at /content/drive; to attempt to forcibly remount, call drive.mount(\"/content/drive\", force_remount=True).\n"
          ]
        }
      ],
      "source": [
        "from google.colab import drive\n",
        "drive.mount('/content/drive')"
      ]
    },
    {
      "cell_type": "code",
      "execution_count": null,
      "metadata": {
        "colab": {
          "base_uri": "https://localhost:8080/"
        },
        "id": "22WVFhqQlpwI",
        "outputId": "89ee114f-bbaa-49e7-aa1f-c42245f07133"
      },
      "outputs": [
        {
          "output_type": "stream",
          "name": "stdout",
          "text": [
            "Requirement already satisfied: cmake==3.12.0 in /usr/local/lib/python3.7/dist-packages (from -r requirements.txt (line 1)) (3.12.0)\n",
            "Requirement already satisfied: pickleshare==0.7.5 in /usr/local/lib/python3.7/dist-packages (from -r requirements.txt (line 2)) (0.7.5)\n",
            "Requirement already satisfied: opencv-python==4.1.2.30 in /usr/local/lib/python3.7/dist-packages (from -r requirements.txt (line 3)) (4.1.2.30)\n",
            "Collecting face_recognition==1.3.0\n",
            "  Downloading face_recognition-1.3.0-py2.py3-none-any.whl (15 kB)\n",
            "Collecting retina-face==0.0.5\n",
            "  Downloading retina_face-0.0.5-py3-none-any.whl (14 kB)\n",
            "Collecting deepface==0.0.68\n",
            "  Downloading deepface-0.0.68-py3-none-any.whl (61 kB)\n",
            "\u001b[K     |████████████████████████████████| 61 kB 4.9 MB/s \n",
            "\u001b[?25hRequirement already satisfied: Pillow==7.1.2 in /usr/local/lib/python3.7/dist-packages (from -r requirements.txt (line 7)) (7.1.2)\n",
            "Requirement already satisfied: numpy>=1.14.5 in /usr/local/lib/python3.7/dist-packages (from opencv-python==4.1.2.30->-r requirements.txt (line 3)) (1.19.5)\n",
            "Requirement already satisfied: Click>=6.0 in /usr/local/lib/python3.7/dist-packages (from face_recognition==1.3.0->-r requirements.txt (line 4)) (7.1.2)\n",
            "Requirement already satisfied: dlib>=19.7 in /usr/local/lib/python3.7/dist-packages (from face_recognition==1.3.0->-r requirements.txt (line 4)) (19.18.0)\n",
            "Collecting face-recognition-models>=0.3.0\n",
            "  Downloading face_recognition_models-0.3.0.tar.gz (100.1 MB)\n",
            "\u001b[K     |████████████████████████████████| 100.1 MB 1.1 MB/s \n",
            "\u001b[?25hRequirement already satisfied: tensorflow>=1.9.0 in /usr/local/lib/python3.7/dist-packages (from retina-face==0.0.5->-r requirements.txt (line 5)) (2.7.0)\n",
            "Collecting gdown>=3.10.1\n",
            "  Downloading gdown-4.2.0.tar.gz (13 kB)\n",
            "  Installing build dependencies ... \u001b[?25l\u001b[?25hdone\n",
            "  Getting requirements to build wheel ... \u001b[?25l\u001b[?25hdone\n",
            "    Preparing wheel metadata ... \u001b[?25l\u001b[?25hdone\n",
            "Requirement already satisfied: Flask>=1.1.2 in /usr/local/lib/python3.7/dist-packages (from deepface==0.0.68->-r requirements.txt (line 6)) (1.1.4)\n",
            "Requirement already satisfied: keras>=2.2.0 in /usr/local/lib/python3.7/dist-packages (from deepface==0.0.68->-r requirements.txt (line 6)) (2.7.0)\n",
            "Requirement already satisfied: tqdm>=4.30.0 in /usr/local/lib/python3.7/dist-packages (from deepface==0.0.68->-r requirements.txt (line 6)) (4.62.3)\n",
            "Collecting mtcnn>=0.1.0\n",
            "  Downloading mtcnn-0.1.1-py3-none-any.whl (2.3 MB)\n",
            "\u001b[K     |████████████████████████████████| 2.3 MB 50.1 MB/s \n",
            "\u001b[?25hRequirement already satisfied: pandas>=0.23.4 in /usr/local/lib/python3.7/dist-packages (from deepface==0.0.68->-r requirements.txt (line 6)) (1.1.5)\n",
            "Requirement already satisfied: Jinja2<3.0,>=2.10.1 in /usr/local/lib/python3.7/dist-packages (from Flask>=1.1.2->deepface==0.0.68->-r requirements.txt (line 6)) (2.11.3)\n",
            "Requirement already satisfied: itsdangerous<2.0,>=0.24 in /usr/local/lib/python3.7/dist-packages (from Flask>=1.1.2->deepface==0.0.68->-r requirements.txt (line 6)) (1.1.0)\n",
            "Requirement already satisfied: Werkzeug<2.0,>=0.15 in /usr/local/lib/python3.7/dist-packages (from Flask>=1.1.2->deepface==0.0.68->-r requirements.txt (line 6)) (1.0.1)\n",
            "Requirement already satisfied: six in /usr/local/lib/python3.7/dist-packages (from gdown>=3.10.1->retina-face==0.0.5->-r requirements.txt (line 5)) (1.15.0)\n",
            "Requirement already satisfied: requests[socks] in /usr/local/lib/python3.7/dist-packages (from gdown>=3.10.1->retina-face==0.0.5->-r requirements.txt (line 5)) (2.23.0)\n",
            "Requirement already satisfied: beautifulsoup4 in /usr/local/lib/python3.7/dist-packages (from gdown>=3.10.1->retina-face==0.0.5->-r requirements.txt (line 5)) (4.6.3)\n",
            "Requirement already satisfied: filelock in /usr/local/lib/python3.7/dist-packages (from gdown>=3.10.1->retina-face==0.0.5->-r requirements.txt (line 5)) (3.4.0)\n",
            "Requirement already satisfied: MarkupSafe>=0.23 in /usr/local/lib/python3.7/dist-packages (from Jinja2<3.0,>=2.10.1->Flask>=1.1.2->deepface==0.0.68->-r requirements.txt (line 6)) (2.0.1)\n",
            "Requirement already satisfied: python-dateutil>=2.7.3 in /usr/local/lib/python3.7/dist-packages (from pandas>=0.23.4->deepface==0.0.68->-r requirements.txt (line 6)) (2.8.2)\n",
            "Requirement already satisfied: pytz>=2017.2 in /usr/local/lib/python3.7/dist-packages (from pandas>=0.23.4->deepface==0.0.68->-r requirements.txt (line 6)) (2018.9)\n",
            "Requirement already satisfied: libclang>=9.0.1 in /usr/local/lib/python3.7/dist-packages (from tensorflow>=1.9.0->retina-face==0.0.5->-r requirements.txt (line 5)) (12.0.0)\n",
            "Requirement already satisfied: tensorflow-estimator<2.8,~=2.7.0rc0 in /usr/local/lib/python3.7/dist-packages (from tensorflow>=1.9.0->retina-face==0.0.5->-r requirements.txt (line 5)) (2.7.0)\n",
            "Requirement already satisfied: flatbuffers<3.0,>=1.12 in /usr/local/lib/python3.7/dist-packages (from tensorflow>=1.9.0->retina-face==0.0.5->-r requirements.txt (line 5)) (2.0)\n",
            "Requirement already satisfied: grpcio<2.0,>=1.24.3 in /usr/local/lib/python3.7/dist-packages (from tensorflow>=1.9.0->retina-face==0.0.5->-r requirements.txt (line 5)) (1.42.0)\n",
            "Requirement already satisfied: google-pasta>=0.1.1 in /usr/local/lib/python3.7/dist-packages (from tensorflow>=1.9.0->retina-face==0.0.5->-r requirements.txt (line 5)) (0.2.0)\n",
            "Requirement already satisfied: opt-einsum>=2.3.2 in /usr/local/lib/python3.7/dist-packages (from tensorflow>=1.9.0->retina-face==0.0.5->-r requirements.txt (line 5)) (3.3.0)\n",
            "Requirement already satisfied: h5py>=2.9.0 in /usr/local/lib/python3.7/dist-packages (from tensorflow>=1.9.0->retina-face==0.0.5->-r requirements.txt (line 5)) (3.1.0)\n",
            "Requirement already satisfied: protobuf>=3.9.2 in /usr/local/lib/python3.7/dist-packages (from tensorflow>=1.9.0->retina-face==0.0.5->-r requirements.txt (line 5)) (3.17.3)\n",
            "Requirement already satisfied: wheel<1.0,>=0.32.0 in /usr/local/lib/python3.7/dist-packages (from tensorflow>=1.9.0->retina-face==0.0.5->-r requirements.txt (line 5)) (0.37.0)\n",
            "Requirement already satisfied: keras-preprocessing>=1.1.1 in /usr/local/lib/python3.7/dist-packages (from tensorflow>=1.9.0->retina-face==0.0.5->-r requirements.txt (line 5)) (1.1.2)\n",
            "Requirement already satisfied: gast<0.5.0,>=0.2.1 in /usr/local/lib/python3.7/dist-packages (from tensorflow>=1.9.0->retina-face==0.0.5->-r requirements.txt (line 5)) (0.4.0)\n",
            "Requirement already satisfied: termcolor>=1.1.0 in /usr/local/lib/python3.7/dist-packages (from tensorflow>=1.9.0->retina-face==0.0.5->-r requirements.txt (line 5)) (1.1.0)\n",
            "Requirement already satisfied: tensorboard~=2.6 in /usr/local/lib/python3.7/dist-packages (from tensorflow>=1.9.0->retina-face==0.0.5->-r requirements.txt (line 5)) (2.7.0)\n",
            "Requirement already satisfied: astunparse>=1.6.0 in /usr/local/lib/python3.7/dist-packages (from tensorflow>=1.9.0->retina-face==0.0.5->-r requirements.txt (line 5)) (1.6.3)\n",
            "Requirement already satisfied: typing-extensions>=3.6.6 in /usr/local/lib/python3.7/dist-packages (from tensorflow>=1.9.0->retina-face==0.0.5->-r requirements.txt (line 5)) (3.10.0.2)\n",
            "Requirement already satisfied: wrapt>=1.11.0 in /usr/local/lib/python3.7/dist-packages (from tensorflow>=1.9.0->retina-face==0.0.5->-r requirements.txt (line 5)) (1.13.3)\n",
            "Requirement already satisfied: tensorflow-io-gcs-filesystem>=0.21.0 in /usr/local/lib/python3.7/dist-packages (from tensorflow>=1.9.0->retina-face==0.0.5->-r requirements.txt (line 5)) (0.22.0)\n",
            "Requirement already satisfied: absl-py>=0.4.0 in /usr/local/lib/python3.7/dist-packages (from tensorflow>=1.9.0->retina-face==0.0.5->-r requirements.txt (line 5)) (0.12.0)\n",
            "Requirement already satisfied: cached-property in /usr/local/lib/python3.7/dist-packages (from h5py>=2.9.0->tensorflow>=1.9.0->retina-face==0.0.5->-r requirements.txt (line 5)) (1.5.2)\n",
            "Requirement already satisfied: setuptools>=41.0.0 in /usr/local/lib/python3.7/dist-packages (from tensorboard~=2.6->tensorflow>=1.9.0->retina-face==0.0.5->-r requirements.txt (line 5)) (57.4.0)\n",
            "Requirement already satisfied: tensorboard-data-server<0.7.0,>=0.6.0 in /usr/local/lib/python3.7/dist-packages (from tensorboard~=2.6->tensorflow>=1.9.0->retina-face==0.0.5->-r requirements.txt (line 5)) (0.6.1)\n",
            "Requirement already satisfied: google-auth<3,>=1.6.3 in /usr/local/lib/python3.7/dist-packages (from tensorboard~=2.6->tensorflow>=1.9.0->retina-face==0.0.5->-r requirements.txt (line 5)) (1.35.0)\n",
            "Requirement already satisfied: google-auth-oauthlib<0.5,>=0.4.1 in /usr/local/lib/python3.7/dist-packages (from tensorboard~=2.6->tensorflow>=1.9.0->retina-face==0.0.5->-r requirements.txt (line 5)) (0.4.6)\n",
            "Requirement already satisfied: tensorboard-plugin-wit>=1.6.0 in /usr/local/lib/python3.7/dist-packages (from tensorboard~=2.6->tensorflow>=1.9.0->retina-face==0.0.5->-r requirements.txt (line 5)) (1.8.0)\n",
            "Requirement already satisfied: markdown>=2.6.8 in /usr/local/lib/python3.7/dist-packages (from tensorboard~=2.6->tensorflow>=1.9.0->retina-face==0.0.5->-r requirements.txt (line 5)) (3.3.6)\n",
            "Requirement already satisfied: cachetools<5.0,>=2.0.0 in /usr/local/lib/python3.7/dist-packages (from google-auth<3,>=1.6.3->tensorboard~=2.6->tensorflow>=1.9.0->retina-face==0.0.5->-r requirements.txt (line 5)) (4.2.4)\n",
            "Requirement already satisfied: rsa<5,>=3.1.4 in /usr/local/lib/python3.7/dist-packages (from google-auth<3,>=1.6.3->tensorboard~=2.6->tensorflow>=1.9.0->retina-face==0.0.5->-r requirements.txt (line 5)) (4.8)\n",
            "Requirement already satisfied: pyasn1-modules>=0.2.1 in /usr/local/lib/python3.7/dist-packages (from google-auth<3,>=1.6.3->tensorboard~=2.6->tensorflow>=1.9.0->retina-face==0.0.5->-r requirements.txt (line 5)) (0.2.8)\n",
            "Requirement already satisfied: requests-oauthlib>=0.7.0 in /usr/local/lib/python3.7/dist-packages (from google-auth-oauthlib<0.5,>=0.4.1->tensorboard~=2.6->tensorflow>=1.9.0->retina-face==0.0.5->-r requirements.txt (line 5)) (1.3.0)\n",
            "Requirement already satisfied: importlib-metadata>=4.4 in /usr/local/lib/python3.7/dist-packages (from markdown>=2.6.8->tensorboard~=2.6->tensorflow>=1.9.0->retina-face==0.0.5->-r requirements.txt (line 5)) (4.8.2)\n",
            "Requirement already satisfied: zipp>=0.5 in /usr/local/lib/python3.7/dist-packages (from importlib-metadata>=4.4->markdown>=2.6.8->tensorboard~=2.6->tensorflow>=1.9.0->retina-face==0.0.5->-r requirements.txt (line 5)) (3.6.0)\n",
            "Requirement already satisfied: pyasn1<0.5.0,>=0.4.6 in /usr/local/lib/python3.7/dist-packages (from pyasn1-modules>=0.2.1->google-auth<3,>=1.6.3->tensorboard~=2.6->tensorflow>=1.9.0->retina-face==0.0.5->-r requirements.txt (line 5)) (0.4.8)\n",
            "Requirement already satisfied: chardet<4,>=3.0.2 in /usr/local/lib/python3.7/dist-packages (from requests[socks]->gdown>=3.10.1->retina-face==0.0.5->-r requirements.txt (line 5)) (3.0.4)\n",
            "Requirement already satisfied: idna<3,>=2.5 in /usr/local/lib/python3.7/dist-packages (from requests[socks]->gdown>=3.10.1->retina-face==0.0.5->-r requirements.txt (line 5)) (2.10)\n",
            "Requirement already satisfied: certifi>=2017.4.17 in /usr/local/lib/python3.7/dist-packages (from requests[socks]->gdown>=3.10.1->retina-face==0.0.5->-r requirements.txt (line 5)) (2021.10.8)\n",
            "Requirement already satisfied: urllib3!=1.25.0,!=1.25.1,<1.26,>=1.21.1 in /usr/local/lib/python3.7/dist-packages (from requests[socks]->gdown>=3.10.1->retina-face==0.0.5->-r requirements.txt (line 5)) (1.24.3)\n",
            "Requirement already satisfied: oauthlib>=3.0.0 in /usr/local/lib/python3.7/dist-packages (from requests-oauthlib>=0.7.0->google-auth-oauthlib<0.5,>=0.4.1->tensorboard~=2.6->tensorflow>=1.9.0->retina-face==0.0.5->-r requirements.txt (line 5)) (3.1.1)\n",
            "Requirement already satisfied: PySocks!=1.5.7,>=1.5.6 in /usr/local/lib/python3.7/dist-packages (from requests[socks]->gdown>=3.10.1->retina-face==0.0.5->-r requirements.txt (line 5)) (1.7.1)\n",
            "Building wheels for collected packages: face-recognition-models, gdown\n",
            "  Building wheel for face-recognition-models (setup.py) ... \u001b[?25l\u001b[?25hdone\n",
            "  Created wheel for face-recognition-models: filename=face_recognition_models-0.3.0-py2.py3-none-any.whl size=100566185 sha256=7f2b452a5a86fb49f60f21e598bd113a7da29bcc82ca5c1041f1a06ad0f7eeb6\n",
            "  Stored in directory: /root/.cache/pip/wheels/d6/81/3c/884bcd5e1c120ff548d57c2ecc9ebf3281c9a6f7c0e7e7947a\n",
            "  Building wheel for gdown (PEP 517) ... \u001b[?25l\u001b[?25hdone\n",
            "  Created wheel for gdown: filename=gdown-4.2.0-py3-none-any.whl size=14273 sha256=f5647ca1917888d638e8c60d96f4e7282b22a87c77bae17c189055ac58a6bd5f\n",
            "  Stored in directory: /root/.cache/pip/wheels/8c/17/ff/58721d1fabdb87c21a0529948cf39e2be9af90ddbe4ad65944\n",
            "Successfully built face-recognition-models gdown\n",
            "Installing collected packages: gdown, retina-face, mtcnn, face-recognition-models, face-recognition, deepface\n",
            "  Attempting uninstall: gdown\n",
            "    Found existing installation: gdown 3.6.4\n",
            "    Uninstalling gdown-3.6.4:\n",
            "      Successfully uninstalled gdown-3.6.4\n",
            "Successfully installed deepface-0.0.68 face-recognition-1.3.0 face-recognition-models-0.3.0 gdown-4.2.0 mtcnn-0.1.1 retina-face-0.0.5\n",
            "\u001b[K     |████████████████████████████████| 9.2 MB 9.3 MB/s \n",
            "\u001b[K     |████████████████████████████████| 180 kB 95.2 MB/s \n",
            "\u001b[K     |████████████████████████████████| 76 kB 6.5 MB/s \n",
            "\u001b[K     |████████████████████████████████| 164 kB 91.5 MB/s \n",
            "\u001b[K     |████████████████████████████████| 111 kB 103.8 MB/s \n",
            "\u001b[K     |████████████████████████████████| 4.3 MB 77.2 MB/s \n",
            "\u001b[K     |████████████████████████████████| 63 kB 2.0 MB/s \n",
            "\u001b[K     |████████████████████████████████| 126 kB 78.2 MB/s \n",
            "\u001b[K     |████████████████████████████████| 791 kB 80.5 MB/s \n",
            "\u001b[K     |████████████████████████████████| 374 kB 67.7 MB/s \n",
            "\u001b[?25h  Building wheel for blinker (setup.py) ... \u001b[?25l\u001b[?25hdone\n",
            "\u001b[31mERROR: pip's dependency resolver does not currently take into account all the packages that are installed. This behaviour is the source of the following dependency conflicts.\n",
            "jupyter-console 5.2.0 requires prompt-toolkit<2.0.0,>=1.0.0, but you have prompt-toolkit 3.0.24 which is incompatible.\n",
            "google-colab 1.0.0 requires ipykernel~=4.10, but you have ipykernel 6.6.0 which is incompatible.\n",
            "google-colab 1.0.0 requires ipython~=5.5.0, but you have ipython 7.30.1 which is incompatible.\u001b[0m\n"
          ]
        }
      ],
      "source": [
        "# import requirements.txt from drive and install it\n",
        "# import os \n",
        "# from google.colab import files\n",
        "\n",
        "requirements_path = \"/content/drive/MyDrive/Screenema_Streamlit/colab_requirements.txt\"\n",
        "with open(requirements_path) as f:\n",
        "    requirements = f.read()\n",
        "\n",
        "with open('requirements.txt', 'w') as writefile:\n",
        "    writefile.write(requirements)\n",
        "\n",
        "!pip install -r requirements.txt\n",
        "!pip install -q streamlit"
      ]
    },
    {
      "cell_type": "markdown",
      "metadata": {
        "id": "Kfp_kX1kl8NM"
      },
      "source": [
        "## récupérer nGrok (le tunnel pour connecter Streamlit depuis Colab)"
      ]
    },
    {
      "cell_type": "code",
      "execution_count": null,
      "metadata": {
        "colab": {
          "base_uri": "https://localhost:8080/"
        },
        "id": "ZNQJUhvOlrmN",
        "outputId": "64c7f401-ebca-47fe-ea8d-381b0675d542"
      },
      "outputs": [
        {
          "output_type": "stream",
          "name": "stdout",
          "text": [
            "--2021-12-22 13:04:30--  https://bin.equinox.io/c/4VmDzA7iaHb/ngrok-stable-linux-amd64.zip\n",
            "Resolving bin.equinox.io (bin.equinox.io)... 52.202.168.65, 54.161.241.46, 54.237.133.81, ...\n",
            "Connecting to bin.equinox.io (bin.equinox.io)|52.202.168.65|:443... connected.\n",
            "HTTP request sent, awaiting response... 200 OK\n",
            "Length: 13832437 (13M) [application/octet-stream]\n",
            "Saving to: ‘ngrok-stable-linux-amd64.zip’\n",
            "\n",
            "ngrok-stable-linux- 100%[===================>]  13.19M  3.39MB/s    in 5.1s    \n",
            "\n",
            "2021-12-22 13:04:35 (2.60 MB/s) - ‘ngrok-stable-linux-amd64.zip’ saved [13832437/13832437]\n",
            "\n"
          ]
        }
      ],
      "source": [
        "!wget https://bin.equinox.io/c/4VmDzA7iaHb/ngrok-stable-linux-amd64.zip"
      ]
    },
    {
      "cell_type": "code",
      "execution_count": null,
      "metadata": {
        "colab": {
          "base_uri": "https://localhost:8080/"
        },
        "id": "KsQAwU7Elw_c",
        "outputId": "7a8bf7c5-de0c-4853-afc9-3bce1b02a83d"
      },
      "outputs": [
        {
          "output_type": "stream",
          "name": "stdout",
          "text": [
            "Archive:  ngrok-stable-linux-amd64.zip\n",
            "  inflating: ngrok                   \n"
          ]
        }
      ],
      "source": [
        "!unzip ngrok-stable-linux-amd64.zip"
      ]
    },
    {
      "cell_type": "code",
      "execution_count": null,
      "metadata": {
        "id": "z9W9U535m4iH"
      },
      "outputs": [],
      "source": [
        "# autthentification Put your key instead of YOUR_KEY_HERE\n",
        "get_ipython().system_raw('./ngrok authtoken YOUR_KEY_HERE')"
      ]
    },
    {
      "cell_type": "code",
      "execution_count": null,
      "metadata": {
        "id": "Qr46wmKtl2cI"
      },
      "outputs": [],
      "source": [
        "# créer un server ngrok pr le tunnel\n",
        "get_ipython().system_raw('./ngrok http 8501 &')"
      ]
    },
    {
      "cell_type": "code",
      "execution_count": null,
      "metadata": {
        "colab": {
          "base_uri": "https://localhost:8080/"
        },
        "id": "BBetWZCkl4Eq",
        "outputId": "14afb6a2-c190-4e62-9ca2-673b762a61ef"
      },
      "outputs": [
        {
          "output_type": "stream",
          "name": "stdout",
          "text": [
            "Execute the next cell and the go to the following URL: https://394b-35-199-170-185.ngrok.io\n"
          ]
        }
      ],
      "source": [
        "# créer le tunnel vraiment\n",
        "!curl -s http://localhost:4040/api/tunnels | python3 -c \\\n",
        "    'import sys, json; print(\"Execute the next cell and the go to the following URL: \" +json.load(sys.stdin)[\"tunnels\"][0][\"public_url\"])'"
      ]
    },
    {
      "cell_type": "markdown",
      "metadata": {
        "id": "cF4vtBdCh0FB"
      },
      "source": [
        "## Run Streamlit"
      ]
    },
    {
      "cell_type": "code",
      "execution_count": null,
      "metadata": {
        "colab": {
          "base_uri": "https://localhost:8080/"
        },
        "id": "W93zUw9zl9rz",
        "outputId": "6c74b1c4-c7cd-4398-c1ed-a31376033e20"
      },
      "outputs": [
        {
          "metadata": {
            "tags": null
          },
          "name": "stdout",
          "output_type": "stream",
          "text": [
            "\u001b[0m\n",
            "\u001b[34m\u001b[1m  You can now view your Streamlit app in your browser.\u001b[0m\n",
            "\u001b[0m\n",
            "\u001b[34m  Network URL: \u001b[0m\u001b[1mhttp://172.28.0.2:8501\u001b[0m\n",
            "\u001b[34m  External URL: \u001b[0m\u001b[1mhttp://35.199.170.185:8501\u001b[0m\n",
            "\u001b[0m\n",
            "Directory  /root /.deepface created\n",
            "Directory  /root /.deepface/weights created\n",
            "2021-12-22 13:05:43.057 Traceback (most recent call last):\n",
            "  File \"/usr/local/lib/python3.7/dist-packages/streamlit/script_runner.py\", line 354, in _run_script\n",
            "    exec(code, module.__dict__)\n",
            "  File \"/content/drive/MyDrive/Screenema_Streamlit/app.py\", line 22, in <module>\n",
            "    home.render()\n",
            "  File \"/content/drive/MyDrive/Screenema_Streamlit/home.py\", line 183, in render\n",
            "    image = display_image_recognition(screenshot)\n",
            "  File \"/content/drive/MyDrive/Screenema_Streamlit/home.py\", line 84, in display_image_recognition\n",
            "    cv2.rectangle(img, (left, top), (right, bottom), COLOR, 3)\n",
            "TypeError: an integer is required (got type str)\n",
            "\n",
            "2021-12-22 13:06:40.694 Traceback (most recent call last):\n",
            "  File \"/usr/local/lib/python3.7/dist-packages/streamlit/script_runner.py\", line 354, in _run_script\n",
            "    exec(code, module.__dict__)\n",
            "  File \"/content/drive/MyDrive/Screenema_Streamlit/app.py\", line 22, in <module>\n",
            "    home.render()\n",
            "  File \"/content/drive/MyDrive/Screenema_Streamlit/home.py\", line 183, in render\n",
            "    image = display_image_recognition(screenshot)\n",
            "  File \"/content/drive/MyDrive/Screenema_Streamlit/home.py\", line 84, in display_image_recognition\n",
            "    cv2.rectangle(img, (left, top), (right, bottom), COLOR, 3)\n",
            "TypeError: an integer is required (got type str)\n",
            "\n",
            "2021-12-22 13:10:54.649 Traceback (most recent call last):\n",
            "  File \"/usr/local/lib/python3.7/dist-packages/streamlit/script_runner.py\", line 354, in _run_script\n",
            "    exec(code, module.__dict__)\n",
            "  File \"/content/drive/MyDrive/Screenema_Streamlit/app.py\", line 22, in <module>\n",
            "    home.render()\n",
            "  File \"/content/drive/MyDrive/Screenema_Streamlit/home.py\", line 183, in render\n",
            "    image = display_image_recognition(screenshot)\n",
            "  File \"/content/drive/MyDrive/Screenema_Streamlit/home.py\", line 84, in display_image_recognition\n",
            "    cv2.rectangle(img, (left, top), (right, bottom), COLOR, 3)\n",
            "TypeError: an integer is required (got type str)\n",
            "\n",
            "2021-12-22 13:21:10.603 Traceback (most recent call last):\n",
            "  File \"/usr/local/lib/python3.7/dist-packages/streamlit/script_runner.py\", line 354, in _run_script\n",
            "    exec(code, module.__dict__)\n",
            "  File \"/content/drive/MyDrive/Screenema_Streamlit/app.py\", line 2, in <module>\n",
            "    import home\n",
            "  File \"/content/drive/MyDrive/Screenema_Streamlit/home.py\", line 30\n",
            "    TEXT_SIZE = st.slider(\"Text size\", min_value=0.25, max_value=5.00, value=0.75)\n",
            "              ^\n",
            "SyntaxError: invalid syntax\n",
            "\n",
            "2021-12-22 13:21:58.789 Traceback (most recent call last):\n",
            "  File \"/usr/local/lib/python3.7/dist-packages/streamlit/script_runner.py\", line 354, in _run_script\n",
            "    exec(code, module.__dict__)\n",
            "  File \"/content/drive/MyDrive/Screenema_Streamlit/app.py\", line 22, in <module>\n",
            "    home.render()\n",
            "  File \"/content/drive/MyDrive/Screenema_Streamlit/home.py\", line 183, in render\n",
            "    image = display_image_recognition(screenshot)\n",
            "  File \"/content/drive/MyDrive/Screenema_Streamlit/home.py\", line 84, in display_image_recognition\n",
            "    cv2.rectangle(img, (left, top), (right, bottom), (COLOR), 3)\n",
            "TypeError: an integer is required (got type str)\n",
            "\n",
            "2021-12-22 13:22:37.099 Traceback (most recent call last):\n",
            "  File \"/usr/local/lib/python3.7/dist-packages/streamlit/script_runner.py\", line 354, in _run_script\n",
            "    exec(code, module.__dict__)\n",
            "  File \"/content/drive/MyDrive/Screenema_Streamlit/app.py\", line 22, in <module>\n",
            "    home.render()\n",
            "  File \"/content/drive/MyDrive/Screenema_Streamlit/home.py\", line 183, in render\n",
            "    image = display_image_recognition(screenshot)\n",
            "  File \"/content/drive/MyDrive/Screenema_Streamlit/home.py\", line 84, in display_image_recognition\n",
            "    cv2.rectangle(img, (left, top), (right, bottom), (COLOR), 3)\n",
            "TypeError: an integer is required (got type str)\n",
            "\n"
          ]
        }
      ],
      "source": [
        "# serveur streamlit\n",
        "!streamlit run /content/drive/MyDrive/Screenema_Streamlit/app.py"
      ]
    }
  ],
  "metadata": {
    "accelerator": "GPU",
    "colab": {
      "collapsed_sections": [],
      "machine_shape": "hm",
      "name": "colab - Streamlit - Screenema.ipynb",
      "provenance": []
    },
    "kernelspec": {
      "display_name": "Python 3",
      "name": "python3"
    },
    "language_info": {
      "name": "python"
    }
  },
  "nbformat": 4,
  "nbformat_minor": 0
}